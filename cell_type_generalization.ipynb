{
 "cells": [
  {
   "cell_type": "markdown",
   "metadata": {},
   "source": [
    "# Evaluation of model Generalization\n",
    "\n",
    "For evaluation models and corresponding datasets on different cell types, microscopes and models are used.  \n",
    "Evaluation is done on a grid seach with models and data with the following structure:\n",
    "\n",
    "**Models:**\n",
    "* grid_search_models  \n",
    "    * [model]_[microscope]_[evaluation cell type]\n",
    "        * saved_model\n",
    "    * [model]_[microscope]_[evaluation cell type]\n",
    "        * saved_model\n",
    "    * ...\n",
    "    \n",
    "*e.g. model name: ssd_brightfield_hela*\n",
    "\n",
    "**Data:**\n",
    "* my_data\n",
    "    * [microscope]_[cell type].tfrecord\n",
    "    \n",
    "*e.g. data name: brightfield_hela.tfrecord*"
   ]
  },
  {
   "cell_type": "code",
   "execution_count": 57,
   "metadata": {},
   "outputs": [],
   "source": [
    "from pathlib import Path\n",
    "\n",
    "import matplotlib\n",
    "import matplotlib.pyplot as plt\n",
    "import seaborn as sns\n",
    "\n",
    "import pandas as pd\n",
    "\n",
    "from data.tf_record_loading import tf_dataset_generator\n",
    "from prediction.prediction_utils import load_model, run_inference_for_single_image\n",
    "from statistics import get_performance_metrics"
   ]
  },
  {
   "cell_type": "code",
   "execution_count": 8,
   "metadata": {},
   "outputs": [],
   "source": [
    "# Set default figure size\n",
    "matplotlib.rcParams['figure.figsize'] = (12, 6)"
   ]
  },
  {
   "cell_type": "code",
   "execution_count": 124,
   "metadata": {},
   "outputs": [],
   "source": [
    "# Set models path\n",
    "models = Path(r\"D:\\Nabil_object_detection\\models\\graph_data_size_cv\")\n",
    "\n",
    "# Set evaluation data path\n",
    "data = Path(r\"D:\\Nabil_object_detection\\data\\experiments\\cell_type\\cross_validation\")"
   ]
  },
  {
   "cell_type": "code",
   "execution_count": 125,
   "metadata": {},
   "outputs": [],
   "source": [
    "def find_data_path(model_path, data_path):\n",
    "    \"\"\"    \n",
    "    Finds evaluation data [microscopre, cell] path for a given model [type, microscope, cell].\n",
    "    \"\"\"\n",
    "\n",
    "    model_type, microscope, cell_type = model_path.name.split(\"_\")\n",
    "    \n",
    "    for record in data_path.iterdir():\n",
    "        record_microscope, record_cell_type, *_ = record.stem.split(\"_\")\n",
    "\n",
    "        if len(_) > 0: continue # Continue if more then 1 \"_\" in record.name.       \n",
    "        if (record_microscope == microscope) and (record_cell_type == cell_type):\n",
    "            return record\n",
    "\n",
    "    raise FileNotFoundError(f\"No record found for model {model_path} in {data_path}\")"
   ]
  },
  {
   "cell_type": "markdown",
   "metadata": {},
   "source": [
    "# Get evaluation metrics"
   ]
  },
  {
   "cell_type": "code",
   "execution_count": 126,
   "metadata": {},
   "outputs": [],
   "source": [
    "def measure_performance(detector, annot):\n",
    "        gt_bboxes = annot.get(\"bboxes\")\n",
    "        prediction = run_inference_for_single_image(model, annot.get(\"image\"))\n",
    "        prediction = prediction.get(\"detection_boxes\")\n",
    "        return get_performance_metrics(prediction, gt_bboxes, iou=0.5)\n",
    "    \n",
    "def update_metrics(m, n):\n",
    "    for key, value in n.items():\n",
    "        m[key].append(value)\n",
    "    return m"
   ]
  },
  {
   "cell_type": "code",
   "execution_count": 127,
   "metadata": {},
   "outputs": [],
   "source": [
    "metrics = {\n",
    "    \"model_type\": [],\n",
    "    \"microscope\": [],\n",
    "    \"eval_cell_type\": [],\n",
    "    \"map\": [],\n",
    "    \"fscore\": [],\n",
    "    \"image_path\": [],\n",
    "    \"model_path\": []\n",
    "}"
   ]
  },
  {
   "cell_type": "code",
   "execution_count": 128,
   "metadata": {},
   "outputs": [
    {
     "name": "stdout",
     "output_type": "stream",
     "text": [
      "INFO:tensorflow:Saver not created because there are no variables in the graph to restore\n",
      "Finished ssd_brightfield_a54949\tImage: brightfield0069.png\n",
      "INFO:tensorflow:Saver not created because there are no variables in the graph to restore\n",
      "Finished ssd_brightfield_nrkrk\tImage: Stack0074.png\n",
      "INFO:tensorflow:Saver not created because there are no variables in the graph to restore\n",
      "Finished ssd_lensfree_a54949\tImage: lensfree0069.png\n",
      "INFO:tensorflow:Saver not created because there are no variables in the graph to restore\n",
      "Finished ssd_lensfree_nrkrk\tImage: lf_full0074.png\n"
     ]
    }
   ],
   "source": [
    "for model_path in models.iterdir():\n",
    "    \n",
    "    # Extract experiment meta\n",
    "    model_type, microscope, cell_type = model_path.name.split(\"_\")\n",
    "\n",
    "    # Load model and data\n",
    "    eval_data = tf_dataset_generator(find_data_path(model_path, data))\n",
    "    model = load_model(model_path)\n",
    "    \n",
    "    for query in eval_data:\n",
    "        \n",
    "        image_path = Path(query.get(\"name\").decode(\"utf-8\"))\n",
    "        print(f\"Evaluating {model_path.name}\\tImage: {image_path.name}\", end=\"\\r\")\n",
    "        \n",
    "        performance = measure_performance(model, query)\n",
    "\n",
    "        update_metrics(metrics, {\"model_type\": model_type,\n",
    "                                 \"microscope\": microscope,\n",
    "                                 \"eval_cell_type\": cell_type,\n",
    "                                 \"map\": performance[\"map\"],\n",
    "                                \"fscore\": performance[\"fscore\"],\n",
    "                                \"image_path\": image_path,\n",
    "                                \"model_path\": model_path})\n",
    "    print(f\"\\tFinished {model_path.name}\")"
   ]
  },
  {
   "cell_type": "code",
   "execution_count": 129,
   "metadata": {},
   "outputs": [],
   "source": [
    "metric_df = pd.DataFrame(metrics)"
   ]
  },
  {
   "cell_type": "code",
   "execution_count": 130,
   "metadata": {},
   "outputs": [
    {
     "data": {
      "text/html": [
       "<div>\n",
       "<style scoped>\n",
       "    .dataframe tbody tr th:only-of-type {\n",
       "        vertical-align: middle;\n",
       "    }\n",
       "\n",
       "    .dataframe tbody tr th {\n",
       "        vertical-align: top;\n",
       "    }\n",
       "\n",
       "    .dataframe thead th {\n",
       "        text-align: right;\n",
       "    }\n",
       "</style>\n",
       "<table border=\"1\" class=\"dataframe\">\n",
       "  <thead>\n",
       "    <tr style=\"text-align: right;\">\n",
       "      <th></th>\n",
       "      <th>model_type</th>\n",
       "      <th>microscope</th>\n",
       "      <th>eval_cell_type</th>\n",
       "      <th>map</th>\n",
       "      <th>fscore</th>\n",
       "      <th>image_path</th>\n",
       "      <th>model_path</th>\n",
       "    </tr>\n",
       "  </thead>\n",
       "  <tbody>\n",
       "    <tr>\n",
       "      <th>0</th>\n",
       "      <td>ssd</td>\n",
       "      <td>brightfield</td>\n",
       "      <td>a549</td>\n",
       "      <td>0.887508</td>\n",
       "      <td>0.357724</td>\n",
       "      <td>D:\\Nabil_object_detection\\data\\annotations\\a54...</td>\n",
       "      <td>D:\\Nabil_object_detection\\models\\graph_data_si...</td>\n",
       "    </tr>\n",
       "    <tr>\n",
       "      <th>1</th>\n",
       "      <td>ssd</td>\n",
       "      <td>brightfield</td>\n",
       "      <td>a549</td>\n",
       "      <td>0.906127</td>\n",
       "      <td>0.382706</td>\n",
       "      <td>D:\\Nabil_object_detection\\data\\annotations\\a54...</td>\n",
       "      <td>D:\\Nabil_object_detection\\models\\graph_data_si...</td>\n",
       "    </tr>\n",
       "    <tr>\n",
       "      <th>2</th>\n",
       "      <td>ssd</td>\n",
       "      <td>brightfield</td>\n",
       "      <td>a549</td>\n",
       "      <td>0.885356</td>\n",
       "      <td>0.377207</td>\n",
       "      <td>D:\\Nabil_object_detection\\data\\annotations\\a54...</td>\n",
       "      <td>D:\\Nabil_object_detection\\models\\graph_data_si...</td>\n",
       "    </tr>\n",
       "    <tr>\n",
       "      <th>3</th>\n",
       "      <td>ssd</td>\n",
       "      <td>brightfield</td>\n",
       "      <td>a549</td>\n",
       "      <td>0.900114</td>\n",
       "      <td>0.377510</td>\n",
       "      <td>D:\\Nabil_object_detection\\data\\annotations\\a54...</td>\n",
       "      <td>D:\\Nabil_object_detection\\models\\graph_data_si...</td>\n",
       "    </tr>\n",
       "    <tr>\n",
       "      <th>4</th>\n",
       "      <td>ssd</td>\n",
       "      <td>brightfield</td>\n",
       "      <td>a549</td>\n",
       "      <td>0.880710</td>\n",
       "      <td>0.371497</td>\n",
       "      <td>D:\\Nabil_object_detection\\data\\annotations\\a54...</td>\n",
       "      <td>D:\\Nabil_object_detection\\models\\graph_data_si...</td>\n",
       "    </tr>\n",
       "    <tr>\n",
       "      <th>...</th>\n",
       "      <td>...</td>\n",
       "      <td>...</td>\n",
       "      <td>...</td>\n",
       "      <td>...</td>\n",
       "      <td>...</td>\n",
       "      <td>...</td>\n",
       "      <td>...</td>\n",
       "    </tr>\n",
       "    <tr>\n",
       "      <th>285</th>\n",
       "      <td>ssd</td>\n",
       "      <td>lensfree</td>\n",
       "      <td>nrk</td>\n",
       "      <td>0.762367</td>\n",
       "      <td>0.519830</td>\n",
       "      <td>D:\\Nabil_object_detection\\data\\annotations\\nrk...</td>\n",
       "      <td>D:\\Nabil_object_detection\\models\\graph_data_si...</td>\n",
       "    </tr>\n",
       "    <tr>\n",
       "      <th>286</th>\n",
       "      <td>ssd</td>\n",
       "      <td>lensfree</td>\n",
       "      <td>nrk</td>\n",
       "      <td>0.805464</td>\n",
       "      <td>0.543798</td>\n",
       "      <td>D:\\Nabil_object_detection\\data\\annotations\\nrk...</td>\n",
       "      <td>D:\\Nabil_object_detection\\models\\graph_data_si...</td>\n",
       "    </tr>\n",
       "    <tr>\n",
       "      <th>287</th>\n",
       "      <td>ssd</td>\n",
       "      <td>lensfree</td>\n",
       "      <td>nrk</td>\n",
       "      <td>0.798991</td>\n",
       "      <td>0.543037</td>\n",
       "      <td>D:\\Nabil_object_detection\\data\\annotations\\nrk...</td>\n",
       "      <td>D:\\Nabil_object_detection\\models\\graph_data_si...</td>\n",
       "    </tr>\n",
       "    <tr>\n",
       "      <th>288</th>\n",
       "      <td>ssd</td>\n",
       "      <td>lensfree</td>\n",
       "      <td>nrk</td>\n",
       "      <td>0.798037</td>\n",
       "      <td>0.536415</td>\n",
       "      <td>D:\\Nabil_object_detection\\data\\annotations\\nrk...</td>\n",
       "      <td>D:\\Nabil_object_detection\\models\\graph_data_si...</td>\n",
       "    </tr>\n",
       "    <tr>\n",
       "      <th>289</th>\n",
       "      <td>ssd</td>\n",
       "      <td>lensfree</td>\n",
       "      <td>nrk</td>\n",
       "      <td>0.700616</td>\n",
       "      <td>0.513608</td>\n",
       "      <td>D:\\Nabil_object_detection\\data\\annotations\\nrk...</td>\n",
       "      <td>D:\\Nabil_object_detection\\models\\graph_data_si...</td>\n",
       "    </tr>\n",
       "  </tbody>\n",
       "</table>\n",
       "<p>290 rows × 7 columns</p>\n",
       "</div>"
      ],
      "text/plain": [
       "    model_type   microscope eval_cell_type       map    fscore  \\\n",
       "0          ssd  brightfield           a549  0.887508  0.357724   \n",
       "1          ssd  brightfield           a549  0.906127  0.382706   \n",
       "2          ssd  brightfield           a549  0.885356  0.377207   \n",
       "3          ssd  brightfield           a549  0.900114  0.377510   \n",
       "4          ssd  brightfield           a549  0.880710  0.371497   \n",
       "..         ...          ...            ...       ...       ...   \n",
       "285        ssd     lensfree            nrk  0.762367  0.519830   \n",
       "286        ssd     lensfree            nrk  0.805464  0.543798   \n",
       "287        ssd     lensfree            nrk  0.798991  0.543037   \n",
       "288        ssd     lensfree            nrk  0.798037  0.536415   \n",
       "289        ssd     lensfree            nrk  0.700616  0.513608   \n",
       "\n",
       "                                            image_path  \\\n",
       "0    D:\\Nabil_object_detection\\data\\annotations\\a54...   \n",
       "1    D:\\Nabil_object_detection\\data\\annotations\\a54...   \n",
       "2    D:\\Nabil_object_detection\\data\\annotations\\a54...   \n",
       "3    D:\\Nabil_object_detection\\data\\annotations\\a54...   \n",
       "4    D:\\Nabil_object_detection\\data\\annotations\\a54...   \n",
       "..                                                 ...   \n",
       "285  D:\\Nabil_object_detection\\data\\annotations\\nrk...   \n",
       "286  D:\\Nabil_object_detection\\data\\annotations\\nrk...   \n",
       "287  D:\\Nabil_object_detection\\data\\annotations\\nrk...   \n",
       "288  D:\\Nabil_object_detection\\data\\annotations\\nrk...   \n",
       "289  D:\\Nabil_object_detection\\data\\annotations\\nrk...   \n",
       "\n",
       "                                            model_path  \n",
       "0    D:\\Nabil_object_detection\\models\\graph_data_si...  \n",
       "1    D:\\Nabil_object_detection\\models\\graph_data_si...  \n",
       "2    D:\\Nabil_object_detection\\models\\graph_data_si...  \n",
       "3    D:\\Nabil_object_detection\\models\\graph_data_si...  \n",
       "4    D:\\Nabil_object_detection\\models\\graph_data_si...  \n",
       "..                                                 ...  \n",
       "285  D:\\Nabil_object_detection\\models\\graph_data_si...  \n",
       "286  D:\\Nabil_object_detection\\models\\graph_data_si...  \n",
       "287  D:\\Nabil_object_detection\\models\\graph_data_si...  \n",
       "288  D:\\Nabil_object_detection\\models\\graph_data_si...  \n",
       "289  D:\\Nabil_object_detection\\models\\graph_data_si...  \n",
       "\n",
       "[290 rows x 7 columns]"
      ]
     },
     "execution_count": 130,
     "metadata": {},
     "output_type": "execute_result"
    }
   ],
   "source": [
    "metric_df"
   ]
  },
  {
   "cell_type": "code",
   "execution_count": 131,
   "metadata": {
    "scrolled": false
   },
   "outputs": [
    {
     "data": {
      "image/png": "[encoded data removed]",
      "text/plain": [
       "<Figure size 864x432 with 1 Axes>"
      ]
     },
     "metadata": {
      "needs_background": "light"
     },
     "output_type": "display_data"
    }
   ],
   "source": [
    "sns.boxplot(x=\"eval_cell_type\", y=\"map\", hue=\"microscope\", data=metric_df,  palette=['#ff7f0e', '#1f77b4'])\n",
    "plt.xlabel(\"Evaluation cell type\", fontsize=20)\n",
    "plt.ylabel(\"mAP\", fontsize=20)\n",
    "plt.xticks(fontsize=15)\n",
    "plt.yticks(fontsize=15)\n",
    "plt.legend(fontsize=15)\n",
    "plt.grid(axis=\"y\")"
   ]
  },
  {
   "cell_type": "code",
   "execution_count": null,
   "metadata": {},
   "outputs": [],
   "source": []
  }
 ],
 "metadata": {
  "kernelspec": {
   "display_name": "Python 3.7.6 64-bit ('tf_detection_api_cpu': conda)",
   "language": "python",
   "name": "python37664bittfdetectionapicpuconda00064aecf2284de5a2295c9eee0915f5"
  },
  "language_info": {
   "codemirror_mode": {
    "name": "ipython",
    "version": 3
   },
   "file_extension": ".py",
   "mimetype": "text/x-python",
   "name": "python",
   "nbconvert_exporter": "python",
   "pygments_lexer": "ipython3",
   "version": "3.7.6"
  },
  "toc": {
   "base_numbering": 1,
   "nav_menu": {},
   "number_sections": true,
   "sideBar": true,
   "skip_h1_title": false,
   "title_cell": "Table of Contents",
   "title_sidebar": "Contents",
   "toc_cell": false,
   "toc_position": {},
   "toc_section_display": true,
   "toc_window_display": false
  },
  "varInspector": {
   "cols": {
    "lenName": 16,
    "lenType": 16,
    "lenVar": 40
   },
   "kernels_config": {
    "python": {
     "delete_cmd_postfix": "",
     "delete_cmd_prefix": "del ",
     "library": "var_list.py",
     "varRefreshCmd": "print(var_dic_list())"
    },
    "r": {
     "delete_cmd_postfix": ") ",
     "delete_cmd_prefix": "rm(",
     "library": "var_list.r",
     "varRefreshCmd": "cat(var_dic_list()) "
    }
   },
   "types_to_exclude": [
    "module",
    "function",
    "builtin_function_or_method",
    "instance",
    "_Feature"
   ],
   "window_display": false
  }
 },
 "nbformat": 4,
 "nbformat_minor": 2
}
