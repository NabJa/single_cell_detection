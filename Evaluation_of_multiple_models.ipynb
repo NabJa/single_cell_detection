{
 "cells": [
  {
   "cell_type": "markdown",
   "metadata": {},
   "source": [
    "# Evaluate multiple models"
   ]
  },
  {
   "cell_type": "code",
   "execution_count": 1,
   "metadata": {
    "scrolled": true
   },
   "outputs": [],
   "source": [
    "import sys\n",
    "\n",
    "import os\n",
    "from os.path import join, basename\n",
    "from glob import glob\n",
    "import pathlib\n",
    "\n",
    "import numpy as np\n",
    "from scipy.spatial import distance\n",
    "\n",
    "import matplotlib.pyplot as plt\n",
    "import plotly\n",
    "\n",
    "from time import time\n",
    "from tqdm import tqdm\n",
    "\n",
    "import tensorflow as tf\n",
    "\n",
    "import cv2\n",
    "\n",
    "import statistics\n",
    "from statistics import evaluate_distance_cutoffs\n",
    "\n",
    "import visualization\n",
    "from visualization import plotly_precision_recall_slider, draw_bboxes_on_image\n",
    "\n",
    "from prediction import prediction_utils\n",
    "from data import bbox_utils as box\n",
    "from data import tf_record_loading as loader\n",
    "from data import image_slice_utils as slicer"
   ]
  },
  {
   "cell_type": "markdown",
   "metadata": {},
   "source": [
    "## Set paths"
   ]
  },
  {
   "cell_type": "code",
   "execution_count": 6,
   "metadata": {},
   "outputs": [],
   "source": [
    "GRAPH_DIR = \"D:\\\\Nabil_object_detection\\\\models\\\\graph_imgSize_vs_bboxSize\"\n",
    "TEST_DIR = \"D:\\\\Nabil_object_detection\\\\val\""
   ]
  },
  {
   "cell_type": "code",
   "execution_count": 7,
   "metadata": {},
   "outputs": [],
   "source": [
    "# Paths for brightfield\n",
    "FASTER_RCNN_10x_PATHS = glob(join(GRAPH_DIR, \"faster_rcnn*10x*\"))\n",
    "SSD_10x_PATHS = glob(join(GRAPH_DIR, \"ssd*10x*\"))\n",
    "TEST_DIR_10x_PATHS = glob(join(TEST_DIR, \"10x*.tfrecord\"))\n",
    "\n",
    "# Paths for lensfree\n",
    "FASTER_RCNN_z00_PATHS = glob(join(GRAPH_DIR, \"faster_rcnn*z00*\"))\n",
    "SSD_z00_PATHS = glob(join(GRAPH_DIR, \"ssd*z00*\"))\n",
    "TEST_DIR_z00_PATHS = glob(join(TEST_DIR, \"z00*.tfrecord\"))"
   ]
  },
  {
   "cell_type": "code",
   "execution_count": 8,
   "metadata": {},
   "outputs": [
    {
     "data": {
      "text/plain": [
       "['D:\\\\Nabil_object_detection\\\\val\\\\z00_tiles0_bboxes20.tfrecord',\n",
       " 'D:\\\\Nabil_object_detection\\\\val\\\\z00_tiles0_bboxes40.tfrecord',\n",
       " 'D:\\\\Nabil_object_detection\\\\val\\\\z00_tiles0_bboxes60.tfrecord',\n",
       " 'D:\\\\Nabil_object_detection\\\\val\\\\z00_tiles4_bboxes20.tfrecord',\n",
       " 'D:\\\\Nabil_object_detection\\\\val\\\\z00_tiles4_bboxes40.tfrecord',\n",
       " 'D:\\\\Nabil_object_detection\\\\val\\\\z00_tiles4_bboxes60.tfrecord',\n",
       " 'D:\\\\Nabil_object_detection\\\\val\\\\z00_tiles8_bboxes20.tfrecord',\n",
       " 'D:\\\\Nabil_object_detection\\\\val\\\\z00_tiles8_bboxes40.tfrecord',\n",
       " 'D:\\\\Nabil_object_detection\\\\val\\\\z00_tiles8_bboxes60.tfrecord']"
      ]
     },
     "execution_count": 8,
     "metadata": {},
     "output_type": "execute_result"
    }
   ],
   "source": [
    "TEST_DIR_z00_PATHS"
   ]
  },
  {
   "cell_type": "code",
   "execution_count": 9,
   "metadata": {},
   "outputs": [],
   "source": [
    "# Brightfield paths\n",
    "BF_BBOX20_PATHS = glob(join(GRAPH_DIR, \"*10x*bboxes20\"))\n",
    "BF_BBOX20_TEST_PATHS = glob(join(TEST_DIR, \"*10x*bboxes20.tfrecord\"))\n",
    "\n",
    "BF_BBOX40_PATHS = glob(join(GRAPH_DIR, \"*10x*bboxes40\"))\n",
    "BF_BBOX40_TEST_PATHS = glob(join(TEST_DIR, \"*10x*bboxes40.tfrecord\"))\n",
    "\n",
    "BF_BBOX60_PATHS = glob(join(GRAPH_DIR, \"*10x*bboxes60\"))\n",
    "BF_BBOX60_TEST_PATHS = glob(join(TEST_DIR, \"*10x*bboxes60.tfrecord\"))\n",
    "\n",
    "# Lensfree paths\n",
    "LF_BBOX20_PATHS = glob(join(GRAPH_DIR, \"*z00*bboxes20\"))\n",
    "LF_BBOX20_TEST_PATHS = glob(join(TEST_DIR, \"*z00*bboxes20.tfrecord\"))\n",
    "\n",
    "LF_BBOX40_PATHS = glob(join(GRAPH_DIR, \"*z00*bboxes40\"))\n",
    "LF_BBOX40_TEST_PATHS = glob(join(TEST_DIR, \"*z00*bboxes40.tfrecord\"))\n",
    "\n",
    "LF_BBOX60_PATHS = glob(join(GRAPH_DIR, \"*z00*bboxes60\"))\n",
    "LF_BBOX60_TEST_PATHS = glob(join(TEST_DIR, \"*z00*bboxes60.tfrecord\"))"
   ]
  },
  {
   "cell_type": "markdown",
   "metadata": {},
   "source": [
    "## Predictions"
   ]
  },
  {
   "cell_type": "code",
   "execution_count": 10,
   "metadata": {},
   "outputs": [],
   "source": [
    "def get_predictions(model_paths, data_paths):\n",
    "    \n",
    "    annotation = next(loader.tf_dataset_generator(data_paths[0]))\n",
    "    image = annotation.get(\"image\")\n",
    "    gt_bboxes = annotation.get(\"bboxes\")\n",
    "    \n",
    "    predictions = {}\n",
    "    for i, model_path in enumerate(model_paths):\n",
    "\n",
    "        # Parse model configs\n",
    "        model_path_configuration = basename(model_path).split(\"_tiles\")[1]\n",
    "        tiles, bbox_size = model_path_configuration.split(\"_bboxes\")\n",
    "\n",
    "        # Load model and data\n",
    "        print(\"Loading model:\", basename(model_path))\n",
    "        model = prediction_utils.load_model(model_path)\n",
    "\n",
    "        # Predict on image\n",
    "        print(\"Predict with tiles:\", tiles)\n",
    "        prediction, confidence = prediction_utils.predict_on_tiled_image(model, image, tiles=int(tiles))\n",
    "\n",
    "        #Save prediction\n",
    "        predictions[basename(model_path)] = {\"prediction\": prediction, \"confidence\": confidence}\n",
    "        \n",
    "    return predictions, annotation"
   ]
  },
  {
   "cell_type": "code",
   "execution_count": 11,
   "metadata": {},
   "outputs": [],
   "source": [
    "# query_predictions, query_annotations = get_predictions(LF_BBOX60_PATHS, LF_BBOX60_TEST_PATHS)"
   ]
  },
  {
   "cell_type": "markdown",
   "metadata": {},
   "source": [
    "## Visualiye predictions"
   ]
  },
  {
   "cell_type": "code",
   "execution_count": 12,
   "metadata": {},
   "outputs": [],
   "source": [
    "def show_predictions(prediction, annotation, conf_threshold=0.5):\n",
    "    \n",
    "    pred = prediction.get(\"prediction\")\n",
    "    conf = prediction.get(\"confidence\")\n",
    "    \n",
    "    image = annotation.get(\"image\")\n",
    "    gt_bboxes = annotation.get(\"bboxes\")\n",
    "    \n",
    "    visualization.plot_bboxes_on_image(image, gt_bboxes, pred[conf >= conf_threshold])"
   ]
  },
  {
   "cell_type": "code",
   "execution_count": 13,
   "metadata": {
    "scrolled": false
   },
   "outputs": [],
   "source": [
    "# for model, prediction in query_predictions.items():\n",
    "#     print(model)\n",
    "#     show_predictions(prediction, query_annotations, conf_threshold=0.5)"
   ]
  },
  {
   "cell_type": "markdown",
   "metadata": {},
   "source": [
    "# Precision-Recall curves"
   ]
  },
  {
   "cell_type": "code",
   "execution_count": 14,
   "metadata": {},
   "outputs": [],
   "source": [
    "def convert_predictions(preds):\n",
    "    \n",
    "    converted_preds = {}\n",
    "    \n",
    "    for name, pred in preds.items():\n",
    "        \n",
    "        pred_yx = np.apply_along_axis(box.bbox_xy1xy2_to_yx1yx2, 1, pred.get(\"prediction\"))\n",
    "        pred_yx_sorted = pred_yx[np.argsort(pred.get(\"confidence\"))[::-1]]\n",
    "        \n",
    "        converted_preds[name] = pred_yx_sorted\n",
    "    \n",
    "    return converted_preds"
   ]
  },
  {
   "cell_type": "code",
   "execution_count": 15,
   "metadata": {},
   "outputs": [],
   "source": [
    "# query_predictions_converted = convert_predictions(query_predictions)"
   ]
  },
  {
   "cell_type": "code",
   "execution_count": 16,
   "metadata": {
    "scrolled": false
   },
   "outputs": [],
   "source": [
    "# fig = visualization.plot_precision_recall_curves(gt4_yx,\n",
    "#                                            query_predictions_converted.get(\"faster_rcnn_resnet101_coco_z00_tiles0_bboxes60\"),\n",
    "#                                            query_predictions_converted.get(\"faster_rcnn_resnet101_coco_z00_tiles4_bboxes60\"),\n",
    "#                                            query_predictions_converted.get(\"faster_rcnn_resnet101_coco_z00_tiles8_bboxes60\"),\n",
    "#                                            query_predictions_converted.get(\"ssd_resnet50_v1_fpn_z00_tiles0_bboxes60\"),\n",
    "#                                            query_predictions_converted.get(\"ssd_resnet50_v1_fpn_z00_tiles4_bboxes60\"),\n",
    "#                                            query_predictions_converted.get(\"ssd_resnet50_v1_fpn_z00_tiles8_bboxes60\"),\n",
    "#                                                  title=\"Lensfree - BBox size 60px\",\n",
    "#                                            names=[\"Faster_Tiles0\", \"Faster_Tiles4\", \"Faster_Tiles8\",\n",
    "#                                                  \"SSD_Tiles0\", \"SSD_Tiles4\", \"SSD_Tiles8\"])"
   ]
  },
  {
   "cell_type": "code",
   "execution_count": 17,
   "metadata": {},
   "outputs": [],
   "source": [
    "# # Save plot\n",
    "# plot_path = \"C:\\\\Users\\\\N.Jabareen\\\\presentations\\\\precision_recall_lf_bbox60.html\"\n",
    "\n",
    "# if not os.path.isfile(plot_path):\n",
    "#     plotly.offline.plot(fig, filename=plot_path)\n",
    "# else:\n",
    "#     print(\"Plot already exists!!\")"
   ]
  },
  {
   "cell_type": "markdown",
   "metadata": {},
   "source": [
    "## Clustered cells"
   ]
  },
  {
   "cell_type": "markdown",
   "metadata": {},
   "source": [
    "### Get model, annotation and prediction"
   ]
  },
  {
   "cell_type": "code",
   "execution_count": 18,
   "metadata": {},
   "outputs": [
    {
     "name": "stdout",
     "output_type": "stream",
     "text": [
      "LF CONFIGS:\n",
      "Model: ssd_resnet50_v1_fpn_z00_tiles0_bboxes40\n",
      "Data: z00_tiles0_bboxes40.tfrecord\n",
      "\n",
      "BF CONFIGS:\n",
      "Model: ssd_resnet50_v1_fpn_10x_tiles0_bboxes40\n",
      "Data: 10x_tiles0_bboxes40.tfrecord\n"
     ]
    }
   ],
   "source": [
    "lf_model_path = LF_BBOX40_PATHS[3]\n",
    "lf_data_path = TEST_DIR_z00_PATHS[1]\n",
    "\n",
    "bf_model_path = BF_BBOX40_PATHS[3]\n",
    "bf_data_path = TEST_DIR_10x_PATHS[1]\n",
    "\n",
    "print(f\"LF CONFIGS:\\nModel: {basename(lf_model_path)}\\nData: {basename(lf_data_path)}\\n\")\n",
    "print(f\"BF CONFIGS:\\nModel: {basename(bf_model_path)}\\nData: {basename(bf_data_path)}\")"
   ]
  },
  {
   "cell_type": "code",
   "execution_count": 19,
   "metadata": {},
   "outputs": [
    {
     "name": "stdout",
     "output_type": "stream",
     "text": [
      "INFO:tensorflow:Saver not created because there are no variables in the graph to restore\n",
      "INFO:tensorflow:Saver not created because there are no variables in the graph to restore\n"
     ]
    }
   ],
   "source": [
    "lf_model = prediction_utils.load_model(lf_model_path)\n",
    "bf_model = prediction_utils.load_model(bf_model_path)\n",
    "\n",
    "lf_annotation = next(loader.tf_dataset_generator(lf_data_path))\n",
    "bf_annotation = next(loader.tf_dataset_generator(bf_data_path))"
   ]
  },
  {
   "cell_type": "code",
   "execution_count": 20,
   "metadata": {},
   "outputs": [],
   "source": [
    "lf_image = lf_annotation.get(\"image\")\n",
    "lf_gt_bboxes = lf_annotation.get(\"bboxes\")\n",
    "\n",
    "bf_image = bf_annotation.get(\"image\")\n",
    "bf_gt_bboxes = bf_annotation.get(\"bboxes\")"
   ]
  },
  {
   "cell_type": "code",
   "execution_count": 36,
   "metadata": {},
   "outputs": [],
   "source": [
    "lf_prediction = prediction_utils.run_inference_for_single_image(lf_model, lf_image)\n",
    "bf_prediction = prediction_utils.run_inference_for_single_image(bf_model, bf_image)"
   ]
  },
  {
   "cell_type": "code",
   "execution_count": 22,
   "metadata": {},
   "outputs": [
    {
     "ename": "AttributeError",
     "evalue": "'NoneType' object has no attribute 'get'",
     "output_type": "error",
     "traceback": [
      "\u001b[1;31m------------------------------------------\u001b[0m",
      "\u001b[1;31mAttributeError\u001b[0mTraceback (most recent call last)",
      "\u001b[1;32m<ipython-input-22-ac294b38a076>\u001b[0m in \u001b[0;36m<module>\u001b[1;34m()\u001b[0m\n\u001b[1;32m----> 1\u001b[1;33m \u001b[0mlf_pred_bboxes\u001b[0m\u001b[1;33m,\u001b[0m \u001b[0mlf_pred_conf\u001b[0m \u001b[1;33m=\u001b[0m \u001b[0mlf_prediction\u001b[0m\u001b[1;33m.\u001b[0m\u001b[0mget\u001b[0m\u001b[1;33m(\u001b[0m\u001b[1;34m\"detection_boxes\"\u001b[0m\u001b[1;33m)\u001b[0m\u001b[1;33m,\u001b[0m \u001b[0mlf_prediction\u001b[0m\u001b[1;33m.\u001b[0m\u001b[0mget\u001b[0m\u001b[1;33m(\u001b[0m\u001b[1;34m\"detection_scores\"\u001b[0m\u001b[1;33m)\u001b[0m\u001b[1;33m\u001b[0m\u001b[1;33m\u001b[0m\u001b[0m\n\u001b[0m\u001b[0;32m      2\u001b[0m \u001b[0mbf_pred_bboxes\u001b[0m\u001b[1;33m,\u001b[0m \u001b[0mbf_pred_conf\u001b[0m \u001b[1;33m=\u001b[0m \u001b[0mbf_prediction\u001b[0m\u001b[1;33m.\u001b[0m\u001b[0mget\u001b[0m\u001b[1;33m(\u001b[0m\u001b[1;34m\"detection_boxes\"\u001b[0m\u001b[1;33m)\u001b[0m\u001b[1;33m,\u001b[0m \u001b[0mbf_prediction\u001b[0m\u001b[1;33m.\u001b[0m\u001b[0mget\u001b[0m\u001b[1;33m(\u001b[0m\u001b[1;34m\"detection_scores\"\u001b[0m\u001b[1;33m)\u001b[0m\u001b[1;33m\u001b[0m\u001b[1;33m\u001b[0m\u001b[0m\n",
      "\u001b[1;31mAttributeError\u001b[0m: 'NoneType' object has no attribute 'get'"
     ]
    }
   ],
   "source": [
    "lf_pred_bboxes, lf_pred_conf = lf_prediction.get(\"detection_boxes\"), lf_prediction.get(\"detection_scores\")\n",
    "bf_pred_bboxes, bf_pred_conf = bf_prediction.get(\"detection_boxes\"), bf_prediction.get(\"detection_scores\")"
   ]
  },
  {
   "cell_type": "markdown",
   "metadata": {},
   "source": [
    "### Plot predicted points and GT on image"
   ]
  },
  {
   "cell_type": "code",
   "execution_count": null,
   "metadata": {},
   "outputs": [],
   "source": [
    "conf_thresh = 0.5"
   ]
  },
  {
   "cell_type": "code",
   "execution_count": 27,
   "metadata": {},
   "outputs": [],
   "source": [
    "# lf_pred_points = box.boxes_to_center_points(lf_pred_bboxes[lf_pred_conf >= conf_thresh])\n",
    "lf_gt_points = box.boxes_to_center_points(lf_gt_bboxes)\n",
    "\n",
    "# bf_pred_points = box.boxes_to_center_points(bf_pred_bboxes[bf_pred_conf >= conf_thresh])\n",
    "bf_gt_points = box.boxes_to_center_points(bf_gt_bboxes)"
   ]
  },
  {
   "cell_type": "code",
   "execution_count": null,
   "metadata": {},
   "outputs": [],
   "source": [
    "lf_img = visualization.draw_circles_on_image(lf_image, lf_gt_points)\n",
    "lf_img = visualization.draw_circles_on_image(lf_img, lf_pred_points, default_color=(0,0,255))\n",
    "\n",
    "bf_img = visualization.draw_circles_on_image(bf_image, bf_gt_points)\n",
    "bf_img = visualization.draw_circles_on_image(bf_img, bf_pred_points, default_color=(0,0,255))"
   ]
  },
  {
   "cell_type": "code",
   "execution_count": null,
   "metadata": {},
   "outputs": [],
   "source": [
    "plt.figure(figsize=(50, 50))\n",
    "plt.subplot(121)\n",
    "plt.imshow(lf_img)\n",
    "plt.subplot(122)\n",
    "plt.imshow(bf_img)\n",
    "plt.show()"
   ]
  },
  {
   "cell_type": "markdown",
   "metadata": {},
   "source": [
    "### Evaluate model with points where distance of $k$ nearest neighbours $<threshold$ "
   ]
  },
  {
   "cell_type": "code",
   "execution_count": 28,
   "metadata": {},
   "outputs": [],
   "source": [
    "distance_thresholds = np.linspace(40, 130, 5)"
   ]
  },
  {
   "cell_type": "code",
   "execution_count": 29,
   "metadata": {},
   "outputs": [
    {
     "ename": "NameError",
     "evalue": "name 'lf_pred_points' is not defined",
     "output_type": "error",
     "traceback": [
      "\u001b[1;31m------------------------------------------\u001b[0m",
      "\u001b[1;31mNameError\u001b[0mTraceback (most recent call last)",
      "\u001b[1;32m<ipython-input-29-de2bf1adffe0>\u001b[0m in \u001b[0;36m<module>\u001b[1;34m()\u001b[0m\n\u001b[1;32m----> 1\u001b[1;33m \u001b[0mlf_distnaces\u001b[0m \u001b[1;33m=\u001b[0m \u001b[0mdistance\u001b[0m\u001b[1;33m.\u001b[0m\u001b[0mcdist\u001b[0m\u001b[1;33m(\u001b[0m\u001b[0mlf_gt_points\u001b[0m\u001b[1;33m,\u001b[0m \u001b[0mlf_pred_points\u001b[0m\u001b[1;33m)\u001b[0m\u001b[1;33m\u001b[0m\u001b[1;33m\u001b[0m\u001b[0m\n\u001b[0m\u001b[0;32m      2\u001b[0m \u001b[0mk_nn\u001b[0m \u001b[1;33m=\u001b[0m \u001b[0mstatistics\u001b[0m\u001b[1;33m.\u001b[0m\u001b[0mfind_n_closest_points\u001b[0m\u001b[1;33m(\u001b[0m\u001b[0mlf_distnaces\u001b[0m\u001b[1;33m,\u001b[0m \u001b[1;36m3\u001b[0m\u001b[1;33m)\u001b[0m\u001b[1;33m\u001b[0m\u001b[1;33m\u001b[0m\u001b[0m\n\u001b[0;32m      3\u001b[0m \u001b[0mgt_mean_dist\u001b[0m \u001b[1;33m=\u001b[0m \u001b[0mnp\u001b[0m\u001b[1;33m.\u001b[0m\u001b[0mmean\u001b[0m\u001b[1;33m(\u001b[0m\u001b[0mk_nn\u001b[0m\u001b[1;33m,\u001b[0m \u001b[0maxis\u001b[0m\u001b[1;33m=\u001b[0m\u001b[1;36m1\u001b[0m\u001b[1;33m)\u001b[0m\u001b[1;33m\u001b[0m\u001b[1;33m\u001b[0m\u001b[0m\n",
      "\u001b[1;31mNameError\u001b[0m: name 'lf_pred_points' is not defined"
     ]
    }
   ],
   "source": [
    "lf_distnaces = distance.cdist(lf_gt_points, lf_pred_points)\n",
    "k_nn = statistics.find_n_closest_points(lf_distnaces, 3)\n",
    "gt_mean_dist = np.mean(k_nn, axis=1)"
   ]
  },
  {
   "cell_type": "code",
   "execution_count": 30,
   "metadata": {},
   "outputs": [
    {
     "ename": "NameError",
     "evalue": "name 'gt_mean_dist' is not defined",
     "output_type": "error",
     "traceback": [
      "\u001b[1;31m------------------------------------------\u001b[0m",
      "\u001b[1;31mNameError\u001b[0mTraceback (most recent call last)",
      "\u001b[1;32m<ipython-input-30-6ff855e298e0>\u001b[0m in \u001b[0;36m<module>\u001b[1;34m()\u001b[0m\n\u001b[0;32m      7\u001b[0m \u001b[0mplt\u001b[0m\u001b[1;33m.\u001b[0m\u001b[0mxticks\u001b[0m\u001b[1;33m(\u001b[0m\u001b[0mfontsize\u001b[0m\u001b[1;33m=\u001b[0m\u001b[1;36m10\u001b[0m\u001b[1;33m)\u001b[0m\u001b[1;33m\u001b[0m\u001b[1;33m\u001b[0m\u001b[0m\n\u001b[0;32m      8\u001b[0m \u001b[0mplt\u001b[0m\u001b[1;33m.\u001b[0m\u001b[0myticks\u001b[0m\u001b[1;33m(\u001b[0m\u001b[0mfontsize\u001b[0m\u001b[1;33m=\u001b[0m\u001b[1;36m10\u001b[0m\u001b[1;33m)\u001b[0m\u001b[1;33m\u001b[0m\u001b[1;33m\u001b[0m\u001b[0m\n\u001b[1;32m----> 9\u001b[1;33m \u001b[0mplt\u001b[0m\u001b[1;33m.\u001b[0m\u001b[0mhist\u001b[0m\u001b[1;33m(\u001b[0m\u001b[0mgt_mean_dist\u001b[0m\u001b[1;33m,\u001b[0m \u001b[0mbins\u001b[0m\u001b[1;33m=\u001b[0m\u001b[1;36m20\u001b[0m\u001b[1;33m)\u001b[0m\u001b[1;33m\u001b[0m\u001b[1;33m\u001b[0m\u001b[0m\n\u001b[0m\u001b[0;32m     10\u001b[0m \u001b[1;31m# plt.vlines(np.mean(gt_mean_dist), 0, 60, colors=\"red\", linewidths=5)\u001b[0m\u001b[1;33m\u001b[0m\u001b[1;33m\u001b[0m\u001b[1;33m\u001b[0m\u001b[0m\n\u001b[0;32m     11\u001b[0m \u001b[0mplt\u001b[0m\u001b[1;33m.\u001b[0m\u001b[0mvlines\u001b[0m\u001b[1;33m(\u001b[0m\u001b[0mdistance_thresholds\u001b[0m\u001b[1;33m,\u001b[0m \u001b[1;36m0\u001b[0m\u001b[1;33m,\u001b[0m \u001b[1;36m55\u001b[0m\u001b[1;33m,\u001b[0m \u001b[0mlinestyles\u001b[0m\u001b[1;33m=\u001b[0m\u001b[1;34m\"dashed\"\u001b[0m\u001b[1;33m,\u001b[0m \u001b[0mcolors\u001b[0m\u001b[1;33m=\u001b[0m\u001b[1;34m\"red\"\u001b[0m\u001b[1;33m)\u001b[0m\u001b[1;33m\u001b[0m\u001b[1;33m\u001b[0m\u001b[0m\n",
      "\u001b[1;31mNameError\u001b[0m: name 'gt_mean_dist' is not defined"
     ]
    },
    {
     "data": {
      "image/png": "[encoded data removed]",
      "text/plain": [
       "<Figure size 864x360 with 1 Axes>"
      ]
     },
     "metadata": {
      "needs_background": "light"
     },
     "output_type": "display_data"
    }
   ],
   "source": [
    "# GT distances with thresholds as vertival lines\n",
    "\n",
    "plt.figure(figsize=(12,5))\n",
    "plt.title(\"GT mean distance to 3-nearest neighbours\", fontsize=20)\n",
    "plt.xlabel(\"Distance [pixel]\", fontsize=15)\n",
    "plt.ylabel(\"Number of points\", fontsize=15)\n",
    "plt.xticks(fontsize=10)\n",
    "plt.yticks(fontsize=10)\n",
    "plt.hist(gt_mean_dist, bins=20)\n",
    "# plt.vlines(np.mean(gt_mean_dist), 0, 60, colors=\"red\", linewidths=5)\n",
    "plt.vlines(distance_thresholds, 0, 55, linestyles=\"dashed\", colors=\"red\")\n",
    "plt.show()"
   ]
  },
  {
   "cell_type": "markdown",
   "metadata": {},
   "source": [
    "### Slider show of distance cutoffs"
   ]
  },
  {
   "cell_type": "code",
   "execution_count": 31,
   "metadata": {},
   "outputs": [
    {
     "ename": "NameError",
     "evalue": "name 'gt_mean_dist' is not defined",
     "output_type": "error",
     "traceback": [
      "\u001b[1;31m------------------------------------------\u001b[0m",
      "\u001b[1;31mNameError\u001b[0mTraceback (most recent call last)",
      "\u001b[1;32m<ipython-input-31-7f17e6725e07>\u001b[0m in \u001b[0;36m<module>\u001b[1;34m()\u001b[0m\n\u001b[1;32m----> 1\u001b[1;33m \u001b[0mgt_dist_colors\u001b[0m \u001b[1;33m=\u001b[0m \u001b[0mvisualization\u001b[0m\u001b[1;33m.\u001b[0m\u001b[0mvalues_to_rgb\u001b[0m\u001b[1;33m(\u001b[0m\u001b[0mgt_mean_dist\u001b[0m\u001b[1;33m)\u001b[0m\u001b[1;33m\u001b[0m\u001b[1;33m\u001b[0m\u001b[0m\n\u001b[0m",
      "\u001b[1;31mNameError\u001b[0m: name 'gt_mean_dist' is not defined"
     ]
    }
   ],
   "source": [
    "gt_dist_colors = visualization.values_to_rgb(gt_mean_dist)"
   ]
  },
  {
   "cell_type": "code",
   "execution_count": 32,
   "metadata": {},
   "outputs": [
    {
     "ename": "NameError",
     "evalue": "name 'gt_dist_colors' is not defined",
     "output_type": "error",
     "traceback": [
      "\u001b[1;31m------------------------------------------\u001b[0m",
      "\u001b[1;31mNameError\u001b[0mTraceback (most recent call last)",
      "\u001b[1;32m<ipython-input-32-97a1ecfc9637>\u001b[0m in \u001b[0;36m<module>\u001b[1;34m()\u001b[0m\n\u001b[0;32m      5\u001b[0m \u001b[1;32mfor\u001b[0m \u001b[0mi\u001b[0m\u001b[1;33m,\u001b[0m \u001b[0mdt\u001b[0m \u001b[1;32min\u001b[0m \u001b[0menumerate\u001b[0m\u001b[1;33m(\u001b[0m\u001b[0mdistance_thresholds\u001b[0m\u001b[1;33m)\u001b[0m\u001b[1;33m:\u001b[0m\u001b[1;33m\u001b[0m\u001b[1;33m\u001b[0m\u001b[0m\n\u001b[0;32m      6\u001b[0m \u001b[1;33m\u001b[0m\u001b[0m\n\u001b[1;32m----> 7\u001b[1;33m     \u001b[0mgt_dist_colors_np\u001b[0m \u001b[1;33m=\u001b[0m \u001b[0mnp\u001b[0m\u001b[1;33m.\u001b[0m\u001b[0marray\u001b[0m\u001b[1;33m(\u001b[0m\u001b[0mgt_dist_colors\u001b[0m\u001b[1;33m)\u001b[0m\u001b[1;33m\u001b[0m\u001b[1;33m\u001b[0m\u001b[0m\n\u001b[0m\u001b[0;32m      8\u001b[0m \u001b[1;33m\u001b[0m\u001b[0m\n\u001b[0;32m      9\u001b[0m     \u001b[0mvalid_colors\u001b[0m \u001b[1;33m=\u001b[0m \u001b[0mgt_dist_colors_np\u001b[0m\u001b[1;33m[\u001b[0m\u001b[0mgt_mean_dist\u001b[0m \u001b[1;33m<=\u001b[0m \u001b[0mdt\u001b[0m\u001b[1;33m]\u001b[0m\u001b[1;33m\u001b[0m\u001b[1;33m\u001b[0m\u001b[0m\n",
      "\u001b[1;31mNameError\u001b[0m: name 'gt_dist_colors' is not defined"
     ]
    },
    {
     "data": {
      "image/png": "[encoded data removed]",
      "text/plain": [
       "<Figure size 432x288 with 6 Axes>"
      ]
     },
     "metadata": {
      "needs_background": "light"
     },
     "output_type": "display_data"
    }
   ],
   "source": [
    "dist_images = []\n",
    "\n",
    "fig, axs = plt.subplots(nrows=2, ncols=3)\n",
    "\n",
    "for i, dt in enumerate(distance_thresholds):\n",
    "    \n",
    "    gt_dist_colors_np = np.array(gt_dist_colors)\n",
    "    \n",
    "    valid_colors = gt_dist_colors_np[gt_mean_dist <= dt]\n",
    "    valid_points = lf_gt_points[gt_mean_dist <= dt]\n",
    "\n",
    "    img = visualization.draw_circles_on_image(lf_image, valid_points, point_colors=valid_colors.tolist())\n",
    "    dist_images.append(img)\n",
    "    \n",
    "    row = i%2\n",
    "    col = i%3\n",
    "    axs[row, col].imshow(img)\n",
    "    \n",
    "fig.set_size_inches((12, 12))"
   ]
  },
  {
   "cell_type": "code",
   "execution_count": null,
   "metadata": {},
   "outputs": [],
   "source": [
    "# fig = visualization.plotly_image_slider(dist_images, distance_thresholds)"
   ]
  },
  {
   "cell_type": "markdown",
   "metadata": {},
   "source": [
    "### Precision recall with distance cutoff"
   ]
  },
  {
   "cell_type": "code",
   "execution_count": null,
   "metadata": {},
   "outputs": [],
   "source": [
    "conf_thresh = 0.5\n",
    "lf_data_generator = loader.tf_dataset_generator(lf_data_path)"
   ]
  },
  {
   "cell_type": "code",
   "execution_count": null,
   "metadata": {},
   "outputs": [],
   "source": [
    "for lf_annotation in lf_data_generator:\n",
    "\n",
    "    lf_image = lf_annotation.get(\"image\")\n",
    "    lf_gt_bboxes = lf_annotation.get(\"bboxes\")\n",
    "\n",
    "    lf_prediction = prediction_utils.run_inference_for_single_image(lf_model, lf_image)\n",
    "    lf_pred_bboxes, lf_pred_conf = lf_prediction.get(\"detection_boxes\"), lf_prediction.get(\"detection_scores\")\n",
    "\n",
    "    lf_pred_points = box.boxes_to_center_points(lf_pred_bboxes[lf_pred_conf >= conf_thresh])\n",
    "    lf_gt_points = box.boxes_to_center_points(lf_gt_bboxes)\n",
    "\n",
    "    lf_knn_stats = evaluate_distance_cutoffs(lf_pred_bboxes, lf_gt_bboxes, distance_thresholds, image=lf_image)\n",
    "    fig = visualization.plotly_image_slider(lf_knn_stats.get(\"images\"), distance_thresholds)\n",
    "\n",
    "    name = lf_annotation.get(\"name\").decode(\"utf-8\").split(\"val\")[1].split(\".\")[0].replace(\"\\\\\", \"\")\n",
    "#     plotly.offline.plot(fig, filename=f\"C:\\\\Users\\\\N.Jabareen\\\\presentations\\\\val_set_ssd_prediction\\\\{name}.html\")\n",
    "    break\n",
    "    "
   ]
  },
  {
   "cell_type": "code",
   "execution_count": null,
   "metadata": {},
   "outputs": [],
   "source": [
    "distance_thresholds"
   ]
  },
  {
   "cell_type": "code",
   "execution_count": null,
   "metadata": {
    "scrolled": true
   },
   "outputs": [],
   "source": [
    "lf_knn_stats = evaluate_distance_cutoffs(lf_pred_bboxes, lf_gt_bboxes, distance_thresholds, image=lf_image)\n",
    "bf_knn_stats = evaluate_distance_cutoffs(bf_pred_bboxes, bf_gt_bboxes, distance_thresholds, image=bf_image)"
   ]
  },
  {
   "cell_type": "code",
   "execution_count": null,
   "metadata": {},
   "outputs": [],
   "source": [
    "lf_knn_stats.get(\"precisions\")"
   ]
  },
  {
   "cell_type": "code",
   "execution_count": null,
   "metadata": {},
   "outputs": [],
   "source": [
    "lf_pre_rec = plotly_precision_recall_slider(lf_knn_stats.get(\"precisions\"), lf_knn_stats.get(\"recalls\"), distance_thresholds)\n",
    "bf_pre_rec = plotly_precision_recall_slider(bf_knn_stats.get(\"precisions\"), bf_knn_stats.get(\"recalls\"), distance_thresholds)"
   ]
  },
  {
   "cell_type": "code",
   "execution_count": null,
   "metadata": {},
   "outputs": [],
   "source": [
    "fig = visualization.plotly_image_slider(lf_knn_stats.get(\"images\"), distance_thresholds)"
   ]
  },
  {
   "cell_type": "code",
   "execution_count": null,
   "metadata": {
    "scrolled": true
   },
   "outputs": [],
   "source": [
    "# plotly.offline.plot(fig, filename=\"C:\\\\Users\\\\N.Jabareen\\\\presentations\\\\test.html\")"
   ]
  },
  {
   "cell_type": "code",
   "execution_count": null,
   "metadata": {
    "scrolled": false
   },
   "outputs": [],
   "source": [
    "plotly.offline.plot(lf_pre_rec, filename=\"C:\\\\Users\\\\N.Jabareen\\\\presentations\\\\test2.html\")\n",
    "plotly.offline.plot(bf_pre_rec, filename=\"C:\\\\Users\\\\N.Jabareen\\\\presentations\\\\test3.html\")"
   ]
  },
  {
   "cell_type": "code",
   "execution_count": null,
   "metadata": {},
   "outputs": [],
   "source": []
  },
  {
   "cell_type": "code",
   "execution_count": null,
   "metadata": {},
   "outputs": [],
   "source": []
  },
  {
   "cell_type": "code",
   "execution_count": null,
   "metadata": {},
   "outputs": [],
   "source": []
  },
  {
   "cell_type": "code",
   "execution_count": 2,
   "metadata": {},
   "outputs": [],
   "source": [
    "import pickle\n",
    "from sklearn.metrics import auc\n",
    "import matplotlib.colors as mcolors\n",
    "from matplotlib.pylab import setp"
   ]
  },
  {
   "cell_type": "code",
   "execution_count": null,
   "metadata": {},
   "outputs": [],
   "source": [
    "def get_auc_from_knn(knn):\n",
    "    precisions = knn.get(\"precisions\")\n",
    "    recalls = knn.get(\"recalls\")\n",
    "    aucs = [auc(r, p) for r, p in zip(precisions, recalls)]\n",
    "    return aucs"
   ]
  },
  {
   "cell_type": "code",
   "execution_count": 3,
   "metadata": {},
   "outputs": [],
   "source": [
    "perfomances = pickle.load(open(\"knn_perfomances.p\", \"rb\"))"
   ]
  },
  {
   "cell_type": "code",
   "execution_count": 5,
   "metadata": {},
   "outputs": [
    {
     "data": {
      "image/png": "[encoded data removed]",
      "text/plain": [
       "<Figure size 1152x576 with 1 Axes>"
      ]
     },
     "metadata": {
      "needs_background": "light"
     },
     "output_type": "display_data"
    }
   ],
   "source": [
    "plot_knn_boxplot(perfomances)"
   ]
  },
  {
   "cell_type": "code",
   "execution_count": 4,
   "metadata": {},
   "outputs": [],
   "source": [
    "def plot_knn_boxplot(perfomances):\n",
    "    \n",
    "    def setBoxColors(bp):\n",
    "        colors = list(mcolors.TABLEAU_COLORS.values())[:4]\n",
    "\n",
    "        setp(bp['boxes'][0], color=colors[0], lw=4)\n",
    "        setp(bp['caps'][0], color=colors[0], lw=4)\n",
    "        setp(bp['caps'][1], color=colors[0], lw=4)\n",
    "        setp(bp['whiskers'][0], color=colors[0], lw=4)\n",
    "        setp(bp['whiskers'][1], color=colors[0], lw=4)\n",
    "        setp(bp['medians'][0], color=colors[0], lw=4)\n",
    "\n",
    "        setp(bp['boxes'][1], color=colors[1], lw=4)\n",
    "        setp(bp['caps'][2], color=colors[1], lw=4)\n",
    "        setp(bp['caps'][3], color=colors[1], lw=4)\n",
    "        setp(bp['whiskers'][2], color=colors[1], lw=4)\n",
    "        setp(bp['whiskers'][3], color=colors[1], lw=4)\n",
    "        setp(bp['medians'][1], color=colors[1], lw=4)\n",
    "\n",
    "        setp(bp['boxes'][2], color=colors[2], lw=4)\n",
    "        setp(bp['caps'][4], color=colors[2], lw=4)\n",
    "        setp(bp['caps'][5], color=colors[2], lw=4)\n",
    "        setp(bp['whiskers'][4], color=colors[2], lw=4)\n",
    "        setp(bp['whiskers'][5], color=colors[2], lw=4)\n",
    "        setp(bp['medians'][2], color=colors[2], lw=4)\n",
    "\n",
    "        setp(bp['boxes'][3], color=colors[3], lw=4)\n",
    "        setp(bp['caps'][6], color=colors[3], lw=4)\n",
    "        setp(bp['caps'][7], color=colors[3], lw=4)\n",
    "        setp(bp['whiskers'][6], color=colors[3], lw=4)\n",
    "        setp(bp['whiskers'][7], color=colors[3], lw=4)\n",
    "        setp(bp['medians'][3], color=colors[3], lw=4)\n",
    "\n",
    "    def get_auc_from_knn(knn):\n",
    "        precisions = knn.get(\"precisions\")\n",
    "        recalls = knn.get(\"recalls\")\n",
    "        aucs = [auc(r, p) for r, p in zip(precisions, recalls)]\n",
    "        return aucs\n",
    "    \n",
    "    model_perfomances = {k: [] for k in perfomances.keys()}\n",
    "\n",
    "    for i in range(75):\n",
    "        for model, metric in perfomances.items():\n",
    "            aucs = get_auc_from_knn(metric.get(\"knn\")[i])\n",
    "            model_perfomances[model].append(aucs)\n",
    "\n",
    "    aucs = np.array([np.array(value).reshape(5, 75) for value in model_perfomances.values()])\n",
    "    \n",
    "    initial_pos = np.array([1, 2, 3, 4])\n",
    "    max_pos = 0\n",
    "    model_id = initial_pos.tolist() * 5\n",
    "    distance_thresholds = np.linspace(40, 130, 5)\n",
    "\n",
    "    plt.figure(figsize=(16,8))\n",
    "    plt.title(\"Perfomance on distance thresholds\", fontsize=25)\n",
    "    for d_cutoff in range(aucs.shape[1]):\n",
    "        positions = initial_pos + max_pos + 2\n",
    "        max_pos = np.max(positions)\n",
    "\n",
    "        box_data = aucs[:, d_cutoff, :].tolist()\n",
    "\n",
    "        box = plt.boxplot(box_data, positions=positions)\n",
    "        box = setBoxColors(box)\n",
    "    \n",
    "    plt.xticks(ticks=[4.5, 10.5, 16.5, 22.5, 28.5], labels=distance_thresholds, fontsize=20)\n",
    "    # plt.yticks(np.linspace(0.5, 1, 6), fontsize=20)\n",
    "    plt.ylabel(\"AUC\", fontsize=20)\n",
    "    plt.xlabel(\"Distance cutoff\", fontsize=20)\n",
    "    plt.grid()\n",
    "    plt.show()"
   ]
  },
  {
   "cell_type": "code",
   "execution_count": null,
   "metadata": {},
   "outputs": [],
   "source": []
  },
  {
   "cell_type": "code",
   "execution_count": null,
   "metadata": {},
   "outputs": [],
   "source": [
    "model_perfomances = {k: [] for k in perfomances.keys()}\n",
    "\n",
    "for i in range(75):\n",
    "    for model, metric in perfomances.items():\n",
    "        aucs = get_auc_from_knn(metric.get(\"knn\")[i])\n",
    "        model_perfomances[model].append(aucs)"
   ]
  },
  {
   "cell_type": "code",
   "execution_count": null,
   "metadata": {},
   "outputs": [],
   "source": [
    "aucs = np.array([np.array(value).reshape(5, 75) for value in model_perfomances.values()])"
   ]
  },
  {
   "cell_type": "code",
   "execution_count": null,
   "metadata": {},
   "outputs": [],
   "source": [
    "def setBoxColors(bp):\n",
    "    colors = list(mcolors.TABLEAU_COLORS.values())[:4]\n",
    "\n",
    "    setp(bp['boxes'][0], color=colors[0], lw=4)\n",
    "    setp(bp['caps'][0], color=colors[0], lw=4)\n",
    "    setp(bp['caps'][1], color=colors[0], lw=4)\n",
    "    setp(bp['whiskers'][0], color=colors[0], lw=4)\n",
    "    setp(bp['whiskers'][1], color=colors[0], lw=4)\n",
    "    setp(bp['medians'][0], color=colors[0], lw=4)\n",
    "\n",
    "    setp(bp['boxes'][1], color=colors[1], lw=4)\n",
    "    setp(bp['caps'][2], color=colors[1], lw=4)\n",
    "    setp(bp['caps'][3], color=colors[1], lw=4)\n",
    "    setp(bp['whiskers'][2], color=colors[1], lw=4)\n",
    "    setp(bp['whiskers'][3], color=colors[1], lw=4)\n",
    "    setp(bp['medians'][1], color=colors[1], lw=4)\n",
    "\n",
    "    setp(bp['boxes'][2], color=colors[2], lw=4)\n",
    "    setp(bp['caps'][4], color=colors[2], lw=4)\n",
    "    setp(bp['caps'][5], color=colors[2], lw=4)\n",
    "    setp(bp['whiskers'][4], color=colors[2], lw=4)\n",
    "    setp(bp['whiskers'][5], color=colors[2], lw=4)\n",
    "    setp(bp['medians'][2], color=colors[2], lw=4)\n",
    "\n",
    "    setp(bp['boxes'][3], color=colors[3], lw=4)\n",
    "    setp(bp['caps'][6], color=colors[3], lw=4)\n",
    "    setp(bp['caps'][7], color=colors[3], lw=4)\n",
    "    setp(bp['whiskers'][6], color=colors[3], lw=4)\n",
    "    setp(bp['whiskers'][7], color=colors[3], lw=4)\n",
    "    setp(bp['medians'][3], color=colors[3], lw=4)\n"
   ]
  },
  {
   "cell_type": "code",
   "execution_count": null,
   "metadata": {
    "scrolled": false
   },
   "outputs": [],
   "source": [
    "initial_pos = np.array([1, 2, 3, 4])\n",
    "max_pos = 0\n",
    "model_id = initial_pos.tolist() * 5\n",
    "\n",
    "\n",
    "plt.figure(figsize=(16,8))\n",
    "plt.title(\"Perfomance on distance thresholds\", fontsize=25)\n",
    "for d_cutoff in range(aucs.shape[1]):\n",
    "    positions = initial_pos + max_pos + 2\n",
    "    max_pos = np.max(positions)\n",
    "    \n",
    "    box_data = aucs[:, d_cutoff, :].tolist()\n",
    "        \n",
    "    box = plt.boxplot(box_data, positions=positions)\n",
    "    box = setBoxColors(box)\n",
    "        \n",
    "plt.xticks(ticks=[4.5, 10.5, 16.5, 22.5, 28.5], labels=distance_thresholds, fontsize=20)\n",
    "# plt.yticks(np.linspace(0.5, 1, 6), fontsize=20)\n",
    "plt.ylabel(\"AUC\", fontsize=20)\n",
    "plt.xlabel(\"Distance cutoff\", fontsize=20)\n",
    "plt.grid()\n",
    "plt.show()"
   ]
  },
  {
   "cell_type": "code",
   "execution_count": null,
   "metadata": {},
   "outputs": [],
   "source": [
    "plt.figure(figsize=(16,8))\n",
    "plt.title(\"Model Perfomance\", fontsize=25)\n",
    "\n",
    "\n",
    "    \n",
    "box = plt.boxplot(m[i], positions=, widths=0.5)\n",
    "        \n",
    "\n",
    "\n",
    "plt.show()"
   ]
  },
  {
   "cell_type": "code",
   "execution_count": null,
   "metadata": {},
   "outputs": [],
   "source": []
  }
 ],
 "metadata": {
  "kernelspec": {
   "display_name": "Python [conda env:.conda-tf_detection_api_cpu]",
   "language": "python",
   "name": "conda-env-.conda-tf_detection_api_cpu-py"
  },
  "language_info": {
   "codemirror_mode": {
    "name": "ipython",
    "version": 3
   },
   "file_extension": ".py",
   "mimetype": "text/x-python",
   "name": "python",
   "nbconvert_exporter": "python",
   "pygments_lexer": "ipython3",
   "version": "3.7.6"
  }
 },
 "nbformat": 4,
 "nbformat_minor": 2
}
