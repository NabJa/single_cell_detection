{
 "cells": [
  {
   "cell_type": "markdown",
   "metadata": {},
   "source": [
    "# Exploration of temporal NMS\n",
    "\n",
    "Based on the papaer: https://projet.liris.cnrs.fr/imagine/pub/proceedings/ICPR-2014/data/5209c239.pdf"
   ]
  },
  {
   "cell_type": "code",
   "execution_count": null,
   "metadata": {},
   "outputs": [],
   "source": [
    "import numpy as np\n",
    "from pathlib import Path\n",
    "import tensorflow as tf\n",
    "import matplotlib.pyplot as plt\n",
    "from tqdm import tqdm\n",
    "\n",
    "from data import tf_record_loading as loader\n",
    "from prediction import prediction_utils as predictor\n",
    "from data import bbox_utils as box\n",
    "\n",
    "from statistics import compute_ap\n",
    "from sklearn.metrics import auc\n",
    "\n",
    "import cv2\n",
    "import pickle\n",
    "\n",
    "from procsessing.nms import greedy_nms, soft_nms, t_nms\n",
    "from data import bbox_utils as box\n",
    "import visualization\n",
    "from visualization import draw_circles_from_boxes, plot_circles_from_boxes, write_video\n",
    "import statistics"
   ]
  },
  {
   "cell_type": "code",
   "execution_count": null,
   "metadata": {},
   "outputs": [],
   "source": [
    "# Change default plot size\n",
    "plt.rcParams['figure.figsize'] = [12, 6]"
   ]
  },
  {
   "cell_type": "markdown",
   "metadata": {},
   "source": [
    "## Load Model and Data"
   ]
  },
  {
   "cell_type": "code",
   "execution_count": null,
   "metadata": {},
   "outputs": [],
   "source": [
    "DATA_PATH = \"D:\\\\Nabil_object_detection\\\\val\\\\z00_tiles0_bboxes40.tfrecord\"\n",
    "MODEL_PATH = \"D:\\\\Nabil_object_detection\\\\models\\\\graph_imgSize_vs_bboxSize\\\\ssd_resnet50_v1_fpn_10x_tiles0_bboxes40\""
   ]
  },
  {
   "cell_type": "code",
   "execution_count": null,
   "metadata": {},
   "outputs": [],
   "source": [
    "data = loader.load_tf_dataset(DATA_PATH)\n",
    "model = predictor.load_model(MODEL_PATH)"
   ]
  },
  {
   "cell_type": "markdown",
   "metadata": {},
   "source": [
    "## Predictions"
   ]
  },
  {
   "cell_type": "code",
   "execution_count": null,
   "metadata": {},
   "outputs": [],
   "source": [
    "images = data.get(\"images\")\n",
    "gt_bboxes = data.get(\"bboxes\")"
   ]
  },
  {
   "cell_type": "code",
   "execution_count": null,
   "metadata": {},
   "outputs": [],
   "source": [
    "# predictions = []\n",
    "\n",
    "# for image in tqdm(images):\n",
    "#     prediction = predictor.run_inference_for_single_image(model, image)\n",
    "#     predictions.append(prediction)\n",
    "\n",
    "predictions = pickle.load(open(\"predictions.p\", \"rb\"))"
   ]
  },
  {
   "cell_type": "markdown",
   "metadata": {},
   "source": [
    "## NMS on every image"
   ]
  },
  {
   "cell_type": "markdown",
   "metadata": {},
   "source": [
    "### Prediction score vs. NMS"
   ]
  },
  {
   "cell_type": "code",
   "execution_count": null,
   "metadata": {},
   "outputs": [],
   "source": [
    "first_prediction = predictions[0].get(\"detection_boxes\")[predictions[0].get(\"detection_scores\") >= 0.0]\n",
    "first_score = predictions[0].get(\"detection_scores\")[predictions[0].get(\"detection_scores\") >= 0.0]"
   ]
  },
  {
   "cell_type": "code",
   "execution_count": null,
   "metadata": {},
   "outputs": [],
   "source": [
    "greedy_scores = greedy_nms(first_prediction, first_score, 0.5)\n",
    "soft_scores = soft_nms(first_prediction, first_score, 0.5)"
   ]
  },
  {
   "cell_type": "code",
   "execution_count": null,
   "metadata": {},
   "outputs": [],
   "source": [
    "greedy_predictions = first_prediction[greedy_scores >= 0.5]\n",
    "soft_predictions = first_prediction[soft_scores >= 0.5]"
   ]
  },
  {
   "cell_type": "code",
   "execution_count": null,
   "metadata": {},
   "outputs": [],
   "source": [
    "prediction_points = box.boxes_to_center_points(first_prediction)\n",
    "greedy_points = box.boxes_to_center_points(greedy_predictions)\n",
    "soft_points = box.boxes_to_center_points(soft_predictions)"
   ]
  },
  {
   "cell_type": "markdown",
   "metadata": {},
   "source": [
    "As can be seen in the image below, soft-NMS keeps more predictions. Especially in clustered areas, only the score gets decreased."
   ]
  },
  {
   "cell_type": "code",
   "execution_count": null,
   "metadata": {
    "scrolled": true
   },
   "outputs": [],
   "source": [
    "img_threshold = visualization.draw_circles_on_image(images[0], prediction_points[first_score >= 0.5], colors=first_score[first_score >= 0.5])\n",
    "img_nms_vs_soft = visualization.draw_circles_on_image(images[0], soft_points, greedy_points)\n",
    "img_nms_scores = visualization.draw_circles_on_image(images[0], greedy_points, colors=greedy_scores[greedy_scores >= 0.5])\n",
    "img_soft_scores = visualization.draw_circles_on_image(images[0], soft_points, colors=soft_scores[soft_scores >= 0.5])"
   ]
  },
  {
   "cell_type": "code",
   "execution_count": null,
   "metadata": {
    "scrolled": false
   },
   "outputs": [],
   "source": [
    "fig, axs = plt.subplots(2, 2, figsize=(12,12))\n",
    "\n",
    "axs[0, 0].set_title(\"Greedy vs. Soft\")\n",
    "axs[0, 0].imshow(img_nms_vs_soft)\n",
    "\n",
    "axs[0, 1].set_title(\"Greedy scores\")\n",
    "axs[0, 1].imshow(img_nms_scores)\n",
    "\n",
    "axs[1, 0].set_title(\"Soft scores\")\n",
    "axs[1, 0].imshow(img_soft_scores)\n",
    "\n",
    "axs[1, 1].set_title(\"Threshold scores\")\n",
    "axs[1, 1].imshow(img_threshold)\n",
    "\n",
    "fig.tight_layout()\n",
    "plt.show()"
   ]
  },
  {
   "cell_type": "markdown",
   "metadata": {},
   "source": [
    "## Temporal NMS"
   ]
  },
  {
   "cell_type": "code",
   "execution_count": null,
   "metadata": {},
   "outputs": [],
   "source": [
    "# Get all predicitons\n",
    "\n",
    "all_detections = [x.get(\"detection_boxes\") for x in predictions]\n",
    "all_scores = [x.get(\"detection_scores\") for x in predictions]\n",
    "\n",
    "t_detections, t_scores = t_nms(all_detections, all_scores, iou=0.5)"
   ]
  },
  {
   "cell_type": "code",
   "execution_count": null,
   "metadata": {},
   "outputs": [],
   "source": [
    "# Save predictions as videos\n",
    "\n",
    "g = (draw_circles_from_boxes(image, detection[score >= 0.7]) for image, detection, score in zip(images, t_detections, t_scores))\n",
    "write_video(g, \"temporal.avi\")\n",
    "\n",
    "g = (draw_circles_from_boxes(image, detection[score >= 0.7]) for image, detection, score in zip(images, t_detections, t_scores))\n",
    "write_video(g, \"normal.avi\")"
   ]
  }
 ],
 "metadata": {
  "kernelspec": {
   "display_name": "Python 3.7.6 64-bit ('tf_detection_api_cpu': conda)",
   "language": "python",
   "name": "python37664bittfdetectionapicpuconda00064aecf2284de5a2295c9eee0915f5"
  },
  "language_info": {
   "codemirror_mode": {
    "name": "ipython",
    "version": 3
   },
   "file_extension": ".py",
   "mimetype": "text/x-python",
   "name": "python",
   "nbconvert_exporter": "python",
   "pygments_lexer": "ipython3",
   "version": "3.7.6"
  }
 },
 "nbformat": 4,
 "nbformat_minor": 2
}
